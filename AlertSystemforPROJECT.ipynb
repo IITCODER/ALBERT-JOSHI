{
  "nbformat": 4,
  "nbformat_minor": 0,
  "metadata": {
    "colab": {
      "provenance": [],
      "authorship_tag": "ABX9TyNJjC3TsNp8c/+EAWk7ACbI",
      "include_colab_link": true
    },
    "kernelspec": {
      "name": "python3",
      "display_name": "Python 3"
    },
    "language_info": {
      "name": "python"
    }
  },
  "cells": [
    {
      "cell_type": "markdown",
      "metadata": {
        "id": "view-in-github",
        "colab_type": "text"
      },
      "source": [
        "<a href=\"https://colab.research.google.com/github/IITCODER/ALBERT-JOSHI/blob/main/AlertSystemforPROJECT.ipynb\" target=\"_parent\"><img src=\"https://colab.research.google.com/assets/colab-badge.svg\" alt=\"Open In Colab\"/></a>"
      ]
    },
    {
      "cell_type": "markdown",
      "source": [
        "# **WELCOME IN  WORLD !!!Artificial intelligence (AI) WORLD !!!**"
      ],
      "metadata": {
        "id": "4TtQk_wRIAuM"
      }
    },
    {
      "cell_type": "markdown",
      "source": [
        "# **Student Visit Alert System for PROJECT CSM AIML AS NOT RESPONDING**"
      ],
      "metadata": {
        "id": "lGuYH9VLIUXu"
      }
    },
    {
      "cell_type": "code",
      "source": [
        "# ============================================================\n",
        "#  Student Visit Alert System for PROJECT CSM AIML\n",
        "# ============================================================\n",
        "from IPython.display import HTML, display\n",
        "import time\n",
        "\n",
        "# --- Alert Message Content ---\n",
        "alert_title = \" Important Notice\"\n",
        "\n",
        "alert_body = \"\"\"\n",
        "We have made several announcements, yet <b>students have not visited for the past 1.5 months.</b><br><br>\n",
        "Please make sure to <b>visit and participate</b> in ongoing academic and AI-related activities.<br>\n",
        "Your active involvement is essential for progress, project verification, and upcoming evaluations.\n",
        "\"\"\"\n",
        "\n",
        "alert_footer = \"\"\"\n",
        "If you’re facing any issues, please contact the course coordinator immediately.\n",
        "\"\"\"\n",
        "\n",
        "# --- HTML Styled Alert Box ---\n",
        "\n",
        "html_code = f\"\"\"\n",
        "<div style=\"\n",
        "    border: 3px solid #d9534f;\n",
        "    border-radius: 15px;\n",
        "    padding: 20px;\n",
        "    background-color: #fff8f8;\n",
        "    box-shadow: 0px 4px 15px rgba(255,0,0,0.3);\n",
        "    font-family: 'Segoe UI', sans-serif;\n",
        "    line-height: 1.6;\n",
        "    color: #333;\n",
        "\">\n",
        "    <h2 style=\"color:#d9534f; text-align:center;\">{alert_title}</h2>\n",
        "    <p style=\"font-size:16px;\">{alert_body}</p>\n",
        "    <p style=\"color:#555; font-size:15px; text-align:center;\">{alert_footer}</p>\n",
        "\n",
        "    <!--  Working Sound (user must click Play once) -->\n",
        "    <div style=\"text-align:center; margin-top:15px;\">\n",
        "        <audio controls autoplay style=\"width: 80%;\">\n",
        "            <source src=\"https://actions.google.com/sounds/v1/animals/animal_bark_and_growl.ogg\" type=\"audio/ogg\">\n",
        "            Your browser does not support the audio tag.\n",
        "        </audio>\n",
        "        <p style=\"font-size:13px; color:#777;\"> Click play if sound doesn’t start automatically.</p>\n",
        "    </div>\n",
        "</div>\n",
        "\"\"\"\n",
        "\n",
        "# --- Animated Console Message ---\n",
        "def animate_text(text, delay=0.04):\n",
        "    for ch in text:\n",
        "        print(ch, end='', flush=True)\n",
        "        time.sleep(delay)\n",
        "    print()\n",
        "\n",
        "\n",
        "# --- Display Everything ---\n",
        "display(HTML(html_code))\n",
        "print()\n",
        "animate_text(\" ALERT: Students have not visited for 1.5 months! Please act now! \")\n",
        "print()"
      ],
      "metadata": {
        "colab": {
          "base_uri": "https://localhost:8080/",
          "height": 413
        },
        "id": "LoaQaGJJDiBC",
        "outputId": "4ee1c388-0ef6-4450-905a-91bc4d54ad87"
      },
      "execution_count": 25,
      "outputs": [
        {
          "output_type": "display_data",
          "data": {
            "text/plain": [
              "<IPython.core.display.HTML object>"
            ],
            "text/html": [
              "\n",
              "<div style=\"\n",
              "    border: 3px solid #d9534f;\n",
              "    border-radius: 15px;\n",
              "    padding: 20px;\n",
              "    background-color: #fff8f8;\n",
              "    box-shadow: 0px 4px 15px rgba(255,0,0,0.3);\n",
              "    font-family: 'Segoe UI', sans-serif;\n",
              "    line-height: 1.6;\n",
              "    color: #333;\n",
              "\">\n",
              "    <h2 style=\"color:#d9534f; text-align:center;\"> Important Notice</h2>\n",
              "    <p style=\"font-size:16px;\">\n",
              "We have made several announcements, yet <b>students have not visited for the past 1.5 months.</b><br><br>\n",
              "Please make sure to <b>visit and participate</b> in ongoing academic and AI-related activities.<br>\n",
              "Your active involvement is essential for progress, project verification, and upcoming evaluations.\n",
              "</p>\n",
              "    <p style=\"color:#555; font-size:15px; text-align:center;\">\n",
              "If you’re facing any issues, please contact the course coordinator immediately. \n",
              "</p>\n",
              "\n",
              "    <!--  Working Sound (user must click Play once) -->\n",
              "    <div style=\"text-align:center; margin-top:15px;\">\n",
              "        <audio controls autoplay style=\"width: 80%;\">\n",
              "            <source src=\"https://actions.google.com/sounds/v1/animals/animal_bark_and_growl.ogg\" type=\"audio/ogg\">\n",
              "            Your browser does not support the audio tag.\n",
              "        </audio>\n",
              "        <p style=\"font-size:13px; color:#777;\"> Click play if sound doesn’t start automatically.</p>\n",
              "    </div>\n",
              "</div>\n"
            ]
          },
          "metadata": {}
        },
        {
          "output_type": "stream",
          "name": "stdout",
          "text": [
            "\n",
            " ALERT: Students have not visited for 1.5 months! Please act now! \n",
            "\n"
          ]
        }
      ]
    },
    {
      "cell_type": "code",
      "source": [
        "# 🎵 Google Actions Sound Library URLs\n",
        "google_sounds = [\n",
        "    #  Alarms\n",
        "    \"https://actions.google.com/sounds/v1/alarms/alarm_clock.ogg\",\n",
        "    \"https://actions.google.com/sounds/v1/alarms/bugle_tune.ogg\",\n",
        "    \"https://actions.google.com/sounds/v1/alarms/digital_watch_alarm_long.ogg\",\n",
        "    \"https://actions.google.com/sounds/v1/alarms/mechanical_clock_ring.ogg\",\n",
        "    \"https://actions.google.com/sounds/v1/alarms/spaceship_alarm.ogg\",\n",
        "\n",
        "    #  Animals\n",
        "    \"https://actions.google.com/sounds/v1/animals/dog_barking.ogg\",\n",
        "    \"https://actions.google.com/sounds/v1/animals/cat_purr.ogg\",\n",
        "    \"https://actions.google.com/sounds/v1/animals/crow_call.ogg\",\n",
        "    \"https://actions.google.com/sounds/v1/animals/bee_buzz.ogg\",\n",
        "    \"https://actions.google.com/sounds/v1/animals/afternoon_crickets_long.ogg\",\n",
        "\n",
        "    #  Ambiences\n",
        "    \"https://actions.google.com/sounds/v1/ambiences/arcade_room.ogg\",\n",
        "    \"https://actions.google.com/sounds/v1/ambiences/barnyard_with_animals.ogg\",\n",
        "    \"https://actions.google.com/sounds/v1/ambiences/coffeeshop.ogg\",\n",
        "    \"https://actions.google.com/sounds/v1/ambiences/jungle_atmosphere_morning.ogg\",\n",
        "    \"https://actions.google.com/sounds/v1/ambiences/spring_day_forest.ogg\",\n",
        "\n",
        "    #  Tools / Mechanical\n",
        "    \"https://actions.google.com/sounds/v1/tools/18v_cordless_drill_high_pitch.ogg\",\n",
        "    \"https://actions.google.com/sounds/v1/tools/shovel_digging_dirt.ogg\",\n",
        "    \"https://actions.google.com/sounds/v1/tools/machine_rumble.ogg\",\n",
        "    \"https://actions.google.com/sounds/v1/tools/hammer_on_cement.ogg\",\n",
        "    \"https://actions.google.com/sounds/v1/tools/drill_motor_series.ogg\"\n",
        "]\n",
        "\n",
        "# Example usage in Colab:\n",
        "from IPython.display import HTML, display\n",
        "sound_url = google_sounds[0]  # choose any sound from the list\n",
        "display(HTML(f\"\"\"\n",
        "<audio controls autoplay>\n",
        "  <source src=\"{sound_url}\" type=\"audio/ogg\">\n",
        "  Your browser does not support the audio tag.\n",
        "</audio>\n",
        "<p> Now playing: <b>{sound_url.split('/')[-1]}</b></p>\n",
        "\"\"\"))"
      ],
      "metadata": {
        "colab": {
          "base_uri": "https://localhost:8080/",
          "height": 105
        },
        "id": "9bpsbXeqHu9K",
        "outputId": "971f7677-8a06-4aa9-cbc1-230b63337288"
      },
      "execution_count": 26,
      "outputs": [
        {
          "output_type": "display_data",
          "data": {
            "text/plain": [
              "<IPython.core.display.HTML object>"
            ],
            "text/html": [
              "\n",
              "<audio controls autoplay>\n",
              "  <source src=\"https://actions.google.com/sounds/v1/alarms/alarm_clock.ogg\" type=\"audio/ogg\">\n",
              "  Your browser does not support the audio tag.\n",
              "</audio>\n",
              "<p> Now playing: <b>alarm_clock.ogg</b></p>\n"
            ]
          },
          "metadata": {}
        }
      ]
    },
    {
      "cell_type": "markdown",
      "source": [
        "# OTHER SOUNDS:\n",
        "\n",
        "###  Sample Sounds (Actions on Google Library)\n",
        "#### Alarms category\n",
        "\n",
        "* `https://actions.google.com/sounds/v1/alarms/alarm_clock.ogg`\n",
        "* `https://actions.google.com/sounds/v1/alarms/assorted_computer_sounds.ogg`\n",
        "* `https://actions.google.com/sounds/v1/alarms/bugle_tune.ogg`\n",
        "* `https://actions.google.com/sounds/v1/alarms/digital_watch_alarm_long.ogg`\n",
        "* `https://actions.google.com/sounds/v1/alarms/dinner_bell_triangle.ogg`\n",
        "* `https://actions.google.com/sounds/v1/alarms/dosimeter_alarm.ogg`\n",
        "* `https://actions.google.com/sounds/v1/alarms/mechanical_clock_ring.ogg`\n",
        "* `https://actions.google.com/sounds/v1/alarms/medium_bell_ringing_near.ogg`\n",
        "* `https://actions.google.com/sounds/v1/alarms/phone_alerts_and_rings.ogg`\n",
        "* `https://actions.google.com/sounds/v1/alarms/radiation_meter.ogg`\n",
        "* `https://actions.google.com/sounds/v1/alarms/setting_alarm_clock.ogg`\n",
        "* `https://actions.google.com/sounds/v1/alarms/spaceship_alarm.ogg`\n",
        "* `https://actions.google.com/sounds/v1/alarms/winding_alarm_clock.ogg` ([Google for Developers][2])\n",
        "\n",
        "#### Animals category\n",
        "\n",
        "* `https://actions.google.com/sounds/v1/animals/afternoon_crickets_long.ogg`\n",
        "* `https://actions.google.com/sounds/v1/animals/animal_bark_and_growl.ogg`\n",
        "* `https://actions.google.com/sounds/v1/animals/animal_hiss_and_rattle.ogg`\n",
        "* `https://actions.google.com/sounds/v1/animals/animal_squealing.ogg`\n",
        "* `https://actions.google.com/sounds/v1/animals/bee_buzz.ogg`\n",
        "* `https://actions.google.com/sounds/v1/animals/buzzing_fly.ogg`\n",
        "* `https://actions.google.com/sounds/v1/animals/cat_purr.ogg`\n",
        "* `https://actions.google.com/sounds/v1/animals/cat_purr_close.ogg`\n",
        "* `https://actions.google.com/sounds/v1/animals/cicada_chirp.ogg`\n",
        "* `https://actions.google.com/sounds/v1/animals/crow_call.ogg`\n",
        "* `https://actions.google.com/sounds/v1/animals/distant_dog_barking.ogg`\n",
        "* `https://actions.google.com/sounds/v1/animals/dog_barking.ogg`\n",
        "* `https://actions.google.com/sounds/v1/animals/dog_growling.ogg`\n",
        "* `https://actions.google.com/sounds/v1/animals/dog_snaring.ogg`\n",
        "* `https://actions.google.com/sounds/v1/animals/dog_whining.ogg`\n",
        "* etc. ([Google for Developers][3])\n",
        "\n",
        "#### Ambiences / Background sounds\n",
        "\n",
        "* `https://actions.google.com/sounds/v1/ambiences/ambient_hum_air_conditioner.ogg`\n",
        "* `https://actions.google.com/sounds/v1/ambiences/arcade_room.ogg`\n",
        "* `https://actions.google.com/sounds/v1/ambiences/barnyard_with_animals.ogg`\n",
        "* `https://actions.google.com/sounds/v1/ambiences/children_group_ambience.ogg`\n",
        "* `https://actions.google.com/sounds/v1/ambiences/coffeeshop.ogg`\n",
        "* `https://actions.google.com/sounds/v1/ambiences/convention_hall_ambience_noise.ogg`\n",
        "* `https://actions.google.com/sounds/v1/ambiences/jungle_atmosphere_morning.ogg`\n",
        "* `https://actions.google.com/sounds/v1/ambiences/spring_day_forest.ogg`\n",
        "* etc. ([Google for Developers][4])\n",
        "\n",
        "#### Tools / Mechanical Sounds\n",
        "\n",
        "* `https://actions.google.com/sounds/v1/tools/18v_cordless_drill_high_pitch.ogg`\n",
        "* `https://actions.google.com/sounds/v1/tools/drill_motor_series.ogg`\n",
        "* `https://actions.google.com/sounds/v1/tools/shovel_digging_dirt.ogg`\n",
        "* `https:// actions.google.com/sounds/v1/tools/hammer_on_cement.ogg`\n",
        "* `https://actions.google.com/sounds/v1/tools/machine_rumble.ogg`\n",
        "* etc. ([Google for Developers][5])\n",
        "\n",
        "You can pick any of these and use them in your `<audio>` tags in Colab."
      ],
      "metadata": {
        "id": "l1Q4y1tDFZM2"
      }
    },
    {
      "cell_type": "markdown",
      "source": [
        "# THANKS::\\[link text](https://youtu.be/e4RWQqbukpE?si=_LyvDoI2BIybOvTg)"
      ],
      "metadata": {
        "id": "jhIiMBsOIr3Q"
      }
    }
  ]
}